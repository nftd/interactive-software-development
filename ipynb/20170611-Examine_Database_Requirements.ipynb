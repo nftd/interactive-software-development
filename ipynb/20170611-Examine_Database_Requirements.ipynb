{
 "metadata": {
  "language_info": {
   "codemirror_mode": {
    "name": "ipython",
    "version": 3
   },
   "file_extension": ".py",
   "mimetype": "text/x-python",
   "name": "python",
   "nbconvert_exporter": "python",
   "pygments_lexer": "ipython3",
   "version": "3.9.0-final"
  },
  "orig_nbformat": 2,
  "kernelspec": {
   "name": "python3",
   "display_name": "Python 3",
   "language": "python"
  }
 },
 "nbformat": 4,
 "nbformat_minor": 2,
 "cells": [
  {
   "cell_type": "code",
   "execution_count": 1,
   "metadata": {},
   "outputs": [],
   "source": [
    "from os import chdir\n",
    "chdir('/home/jovyan')"
   ]
  },
  {
   "cell_type": "code",
   "execution_count": 2,
   "metadata": {},
   "outputs": [],
   "source": [
    "import random\n",
    "import pandas as pd"
   ]
  },
  {
   "source": [
    "# Adult Data Set\n",
    "```| This data was extracted from the census bureau database found at\n",
    "| http://www.census.gov/ftp/pub/DES/www/welcome.html\n",
    "| Donor: Ronny Kohavi and Barry Becker,\n",
    "|        Data Mining and Visualization\n",
    "|        Silicon Graphics.\n",
    "|        e-mail: ronnyk@sgi.com for questions.\n",
    "| Split into train-test using MLC++ GenCVFiles (2/3, 1/3 random).\n",
    "| 48842 instances, mix of continuous and discrete    (train=32561, test=16281)\n",
    "| 45222 if instances with unknown values are removed (train=30162, test=15060)\n",
    "| Duplicate or conflicting instances : 6\n",
    "| Class probabilities for adult.all file\n",
    "| Probability for the label '>50K'  : 23.93% / 24.78% (without unknowns)\n",
    "| Probability for the label '<=50K' : 76.07% / 75.22% (without unknowns)\n",
    "|\n",
    "| Extraction was done by Barry Becker from the 1994 Census database.  A set of\n",
    "|   reasonably clean records was extracted using the following conditions:\n",
    "|   ((AAGE>16) && (AGI>100) && (AFNLWGT>1)&& (HRSWK>0))\n",
    "|\n",
    "| Prediction task is to determine whether a person makes over 50K\n",
    "| a year.\n",
    "|\n",
    "| First cited in:\n",
    "| @inproceedings{kohavi-nbtree,\n",
    "|    author={Ron Kohavi},\n",
    "|    title={Scaling Up the Accuracy of Naive-Bayes Classifiers: a\n",
    "|           Decision-Tree Hybrid},\n",
    "|    booktitle={Proceedings of the Second International Conference on\n",
    "|               Knowledge Discovery and Data Mining},\n",
    "|    year = 1996,\n",
    "|    pages={to appear}}\n",
    "|\n",
    "| Error Accuracy reported as follows, after removal of unknowns from\n",
    "|    train/test sets):\n",
    "|    C4.5       : 84.46+-0.30\n",
    "|    Naive-Bayes: 83.88+-0.30\n",
    "|    NBTree     : 85.90+-0.28\n",
    "|\n",
    "|\n",
    "| Following algorithms were later run with the following error rates,\n",
    "|    all after removal of unknowns and using the original train/test split.\n",
    "|    All these numbers are straight runs using MLC++ with default values.\n",
    "|\n",
    "|    Algorithm               Error\n",
    "| -- ----------------        -----\n",
    "| 1  C4.5                    15.54\n",
    "| 2  C4.5-auto               14.46\n",
    "| 3  C4.5 rules              14.94\n",
    "| 4  Voted ID3 (0.6)         15.64\n",
    "| 5  Voted ID3 (0.8)         16.47\n",
    "| 6  T2                      16.84\n",
    "| 7  1R                      19.54\n",
    "| 8  NBTree                  14.10\n",
    "| 9  CN2                     16.00\n",
    "| 10 HOODG                   14.82\n",
    "| 11 FSS Naive Bayes         14.05\n",
    "| 12 IDTM (Decision table)   14.46\n",
    "| 13 Naive-Bayes             16.12\n",
    "| 14 Nearest-neighbor (1)    21.42\n",
    "| 15 Nearest-neighbor (3)    20.35\n",
    "| 16 OC1                     15.04\n",
    "| 17 Pebls                   Crashed.  Unknown why (bounds WERE increased)\n",
    "|\n",
    "| Conversion of original data as follows:\n",
    "| 1. Discretized agrossincome into two ranges with threshold 50,000.\n",
    "| 2. Convert U.S. to US to avoid periods.\n",
    "| 3. Convert Unknown to \"?\"\n",
    "| 4. Run MLC++ GenCVFiles to generate data,test.\n",
    "|\n",
    "| Description of fnlwgt (final weight)\n",
    "|\n",
    "| The weights on the CPS files are controlled to independent estimates of the\n",
    "| civilian noninstitutional population of the US.  These are prepared monthly\n",
    "| for us by Population Division here at the Census Bureau.  We use 3 sets of\n",
    "| controls.\n",
    "|  These are:\n",
    "|          1.  A single cell estimate of the population 16+ for each state.\n",
    "|          2.  Controls for Hispanic Origin by age and sex.\n",
    "|          3.  Controls by Race, age and sex.\n",
    "|\n",
    "| We use all three sets of controls in our weighting program and \"rake\" through\n",
    "| them 6 times so that by the end we come back to all the controls we used.\n",
    "|\n",
    "| The term estimate refers to population totals derived from CPS by creating\n",
    "| \"weighted tallies\" of any specified socio-economic characteristics of the\n",
    "| population.\n",
    "|\n",
    "| People with similar demographic characteristics should have\n",
    "| similar weights.  There is one important caveat to remember\n",
    "| about this statement.  That is that since the CPS sample is\n",
    "| actually a collection of 51 state samples, each with its own\n",
    "| probability of selection, the statement only applies within\n",
    "| state.\n",
    "\n",
    "\n",
    ">50K, <=50K.\n",
    "\n",
    "age: continuous.\n",
    "workclass: Private, Self-emp-not-inc, Self-emp-inc, Federal-gov, Local-gov, State-gov, Without-pay, Never-worked.\n",
    "fnlwgt: continuous.\n",
    "education: Bachelors, Some-college, 11th, HS-grad, Prof-school, Assoc-acdm, Assoc-voc, 9th, 7th-8th, 12th, Masters, 1st-4th, 10th, Doctorate, 5th-6th, Preschool.\n",
    "education-num: continuous.\n",
    "marital-status: Married-civ-spouse, Divorced, Never-married, Separated, Widowed, Married-spouse-absent, Married-AF-spouse.\n",
    "occupation: Tech-support, Craft-repair, Other-service, Sales, Exec-managerial, Prof-specialty, Handlers-cleaners, Machine-op-inspct, Adm-clerical, Farming-fishing, Transport-moving, Priv-house-serv, Protective-serv, Armed-Forces.\n",
    "relationship: Wife, Own-child, Husband, Not-in-family, Other-relative, Unmarried.\n",
    "race: White, Asian-Pac-Islander, Amer-Indian-Eskimo, Other, Black.\n",
    "sex: Female, Male.\n",
    "capital-gain: continuous.\n",
    "capital-loss: continuous.\n",
    "hours-per-week: continuous.\n",
    "native-country: United-States, Cambodia, England, Puerto-Rico, Canada, Germany, Outlying-US(Guam-USVI-etc), India, Japan, Greece, South, China, Cuba, Iran, Honduras, Philippines, Italy, Poland, Jamaica, Vietnam, Mexico, Portugal, Ireland, France, Dominican-Republic, Laos, Ecuador, Taiwan, Haiti, Columbia, Hungary, Guatemala, Nicaragua, Scotland, Thailand, Yugoslavia, El-Salvador, Trinadad&Tobago, Peru, Hong, Holand-Netherlands.\n",
    "```"
   ],
   "cell_type": "markdown",
   "metadata": {}
  },
  {
   "cell_type": "code",
   "execution_count": 3,
   "metadata": {},
   "outputs": [
    {
     "output_type": "stream",
     "name": "stdout",
     "text": [
      "total 20\ndrwxr-xr-x 2 jovyan users 4096 Feb  3 09:20 \u001b[0m\u001b[01;34mdata\u001b[0m/\ndrwxrwxr-x 4 jovyan  1000 4096 Feb  2 06:59 \u001b[01;34mdocker\u001b[0m/\n-rw-rw-r-- 1 jovyan  1000  414 Feb  3 09:20 docker-compose.yml\ndrwxrwxr-x 2 jovyan  1000 4096 Feb  2 06:40 \u001b[01;34mipynb\u001b[0m/\ndrwxrwxr-x 2 jovyan  1000 4096 Feb  2 06:28 \u001b[01;34mlib\u001b[0m/\n"
     ]
    }
   ],
   "source": [
    "ls -l"
   ]
  },
  {
   "cell_type": "code",
   "execution_count": 4,
   "metadata": {},
   "outputs": [
    {
     "output_type": "stream",
     "name": "stdout",
     "text": [
      "mkdir: cannot create directory ‘data’: File exists\n"
     ]
    }
   ],
   "source": [
    "!mkdir data"
   ]
  },
  {
   "cell_type": "code",
   "execution_count": 5,
   "metadata": {},
   "outputs": [
    {
     "output_type": "stream",
     "name": "stdout",
     "text": [
      "--2021-02-03 10:49:50--  http://archive.ics.uci.edu/ml/machine-learning-databases/adult/adult.data\n",
      "Resolving archive.ics.uci.edu (archive.ics.uci.edu)... 128.195.10.252\n",
      "Connecting to archive.ics.uci.edu (archive.ics.uci.edu)|128.195.10.252|:80... connected.\n",
      "HTTP request sent, awaiting response... 200 OK\n",
      "Length: 3974305 (3.8M) [application/x-httpd-php]\n",
      "Saving to: ‘data/adult.data.1’\n",
      "\n",
      "adult.data.1        100%[===================>]   3.79M   559KB/s    in 11s     \n",
      "\n",
      "2021-02-03 10:50:02 (340 KB/s) - ‘data/adult.data.1’ saved [3974305/3974305]\n",
      "\n"
     ]
    }
   ],
   "source": [
    "!wget -P data/ \\\n",
    "http://archive.ics.uci.edu/ml/machine-learning-databases/adult/adult.data"
   ]
  },
  {
   "cell_type": "code",
   "execution_count": 6,
   "metadata": {},
   "outputs": [
    {
     "output_type": "stream",
     "name": "stdout",
     "text": [
      "32560 data/adult.data\n"
     ]
    }
   ],
   "source": [
    "!wc -l data/adult.data"
   ]
  },
  {
   "cell_type": "code",
   "execution_count": 7,
   "metadata": {},
   "outputs": [
    {
     "output_type": "stream",
     "name": "stdout",
     "text": [
      "39, State-gov, 77516, Bachelors, 13, Never-married, Adm-clerical, Not-in-family, White, Male, 2174, 0, 40, United-States, <=50K\n50, Self-emp-not-inc, 83311, Bachelors, 13, Married-civ-spouse, Exec-managerial, Husband, White, Male, 0, 0, 13, United-States, <=50K\n"
     ]
    }
   ],
   "source": [
    "!head -n 2 data/adult.data"
   ]
  },
  {
   "cell_type": "code",
   "execution_count": 8,
   "metadata": {},
   "outputs": [],
   "source": [
    "number_of_rows = 32562\n",
    "sample_size = 3300\n",
    "rows_to_skip = random.sample(range(number_of_rows), number_of_rows - sample_size)\n",
    "rows_to_skip.sort()\n",
    "adult_df = pd.read_csv('data/adult.data', header=None, skiprows=rows_to_skip)\n",
    "adult_df.columns = [\n",
    "    'age',\n",
    "    'workclass',\n",
    "    'fnlwgt',\n",
    "    'education',\n",
    "    'education_num',\n",
    "    'marital_status',\n",
    "    'occupation',\n",
    "    'relationship',\n",
    "    'race',\n",
    "    'gender',\n",
    "    'capital_gain',\n",
    "    'capital_loss',\n",
    "    'hours_per_week',\n",
    "    'native_country',\n",
    "    'income_label'\n",
    "]"
   ]
  },
  {
   "cell_type": "code",
   "execution_count": 9,
   "metadata": {},
   "outputs": [
    {
     "output_type": "execute_result",
     "data": {
      "text/plain": [
       "      age   workclass  fnlwgt   education  education_num       marital_status  \\\n",
       "3130   40   Local-gov  321187   Bachelors             13        Never-married   \n",
       "2165   41     Private  238355     5th-6th              3   Married-civ-spouse   \n",
       "2831   48     Private  207277     Masters             14   Married-civ-spouse   \n",
       "\n",
       "            occupation relationship    race   gender  capital_gain  \\\n",
       "3130    Prof-specialty    Unmarried   White   Female             0   \n",
       "2165   Farming-fishing      Husband   White     Male             0   \n",
       "2831   Exec-managerial      Husband   White     Male         15024   \n",
       "\n",
       "      capital_loss  hours_per_week  native_country income_label  \n",
       "3130             0              45   United-States        <=50K  \n",
       "2165             0              40          Mexico        <=50K  \n",
       "2831             0              40   United-States         >50K  "
      ],
      "text/html": "<div>\n<style scoped>\n    .dataframe tbody tr th:only-of-type {\n        vertical-align: middle;\n    }\n\n    .dataframe tbody tr th {\n        vertical-align: top;\n    }\n\n    .dataframe thead th {\n        text-align: right;\n    }\n</style>\n<table border=\"1\" class=\"dataframe\">\n  <thead>\n    <tr style=\"text-align: right;\">\n      <th></th>\n      <th>age</th>\n      <th>workclass</th>\n      <th>fnlwgt</th>\n      <th>education</th>\n      <th>education_num</th>\n      <th>marital_status</th>\n      <th>occupation</th>\n      <th>relationship</th>\n      <th>race</th>\n      <th>gender</th>\n      <th>capital_gain</th>\n      <th>capital_loss</th>\n      <th>hours_per_week</th>\n      <th>native_country</th>\n      <th>income_label</th>\n    </tr>\n  </thead>\n  <tbody>\n    <tr>\n      <th>3130</th>\n      <td>40</td>\n      <td>Local-gov</td>\n      <td>321187</td>\n      <td>Bachelors</td>\n      <td>13</td>\n      <td>Never-married</td>\n      <td>Prof-specialty</td>\n      <td>Unmarried</td>\n      <td>White</td>\n      <td>Female</td>\n      <td>0</td>\n      <td>0</td>\n      <td>45</td>\n      <td>United-States</td>\n      <td>&lt;=50K</td>\n    </tr>\n    <tr>\n      <th>2165</th>\n      <td>41</td>\n      <td>Private</td>\n      <td>238355</td>\n      <td>5th-6th</td>\n      <td>3</td>\n      <td>Married-civ-spouse</td>\n      <td>Farming-fishing</td>\n      <td>Husband</td>\n      <td>White</td>\n      <td>Male</td>\n      <td>0</td>\n      <td>0</td>\n      <td>40</td>\n      <td>Mexico</td>\n      <td>&lt;=50K</td>\n    </tr>\n    <tr>\n      <th>2831</th>\n      <td>48</td>\n      <td>Private</td>\n      <td>207277</td>\n      <td>Masters</td>\n      <td>14</td>\n      <td>Married-civ-spouse</td>\n      <td>Exec-managerial</td>\n      <td>Husband</td>\n      <td>White</td>\n      <td>Male</td>\n      <td>15024</td>\n      <td>0</td>\n      <td>40</td>\n      <td>United-States</td>\n      <td>&gt;50K</td>\n    </tr>\n  </tbody>\n</table>\n</div>"
     },
     "metadata": {},
     "execution_count": 9
    }
   ],
   "source": [
    "adult_df.sample(3)"
   ]
  },
  {
   "cell_type": "code",
   "execution_count": 10,
   "metadata": {},
   "outputs": [
    {
     "output_type": "execute_result",
     "data": {
      "text/plain": [
       "age                int64\n",
       "workclass         object\n",
       "fnlwgt             int64\n",
       "education         object\n",
       "education_num      int64\n",
       "marital_status    object\n",
       "occupation        object\n",
       "relationship      object\n",
       "race              object\n",
       "gender            object\n",
       "capital_gain       int64\n",
       "capital_loss       int64\n",
       "hours_per_week     int64\n",
       "native_country    object\n",
       "income_label      object\n",
       "dtype: object"
      ]
     },
     "metadata": {},
     "execution_count": 10
    }
   ],
   "source": [
    "adult_df.dtypes"
   ]
  },
  {
   "cell_type": "code",
   "execution_count": 12,
   "metadata": {},
   "outputs": [
    {
     "output_type": "execute_result",
     "data": {
      "text/plain": [
       "      age workclass  fnlwgt education  education_num marital_status  \\\n",
       "3299   31   Private  199655   Masters             14       Divorced   \n",
       "\n",
       "          occupation    relationship    race   gender  capital_gain  \\\n",
       "3299   Other-service   Not-in-family   Other   Female             0   \n",
       "\n",
       "      capital_loss  hours_per_week  native_country income_label  \n",
       "3299             0              30   United-States        <=50K  "
      ],
      "text/html": "<div>\n<style scoped>\n    .dataframe tbody tr th:only-of-type {\n        vertical-align: middle;\n    }\n\n    .dataframe tbody tr th {\n        vertical-align: top;\n    }\n\n    .dataframe thead th {\n        text-align: right;\n    }\n</style>\n<table border=\"1\" class=\"dataframe\">\n  <thead>\n    <tr style=\"text-align: right;\">\n      <th></th>\n      <th>age</th>\n      <th>workclass</th>\n      <th>fnlwgt</th>\n      <th>education</th>\n      <th>education_num</th>\n      <th>marital_status</th>\n      <th>occupation</th>\n      <th>relationship</th>\n      <th>race</th>\n      <th>gender</th>\n      <th>capital_gain</th>\n      <th>capital_loss</th>\n      <th>hours_per_week</th>\n      <th>native_country</th>\n      <th>income_label</th>\n    </tr>\n  </thead>\n  <tbody>\n    <tr>\n      <th>3299</th>\n      <td>31</td>\n      <td>Private</td>\n      <td>199655</td>\n      <td>Masters</td>\n      <td>14</td>\n      <td>Divorced</td>\n      <td>Other-service</td>\n      <td>Not-in-family</td>\n      <td>Other</td>\n      <td>Female</td>\n      <td>0</td>\n      <td>0</td>\n      <td>30</td>\n      <td>United-States</td>\n      <td>&lt;=50K</td>\n    </tr>\n  </tbody>\n</table>\n</div>"
     },
     "metadata": {},
     "execution_count": 12
    }
   ],
   "source": [
    "adult_df[-1:]"
   ]
  },
  {
   "cell_type": "code",
   "execution_count": null,
   "metadata": {},
   "outputs": [],
   "source": []
  }
 ]
}