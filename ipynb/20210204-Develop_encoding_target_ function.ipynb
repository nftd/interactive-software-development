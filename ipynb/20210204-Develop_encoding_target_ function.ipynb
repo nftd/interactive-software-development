{
 "metadata": {
  "language_info": {
   "codemirror_mode": {
    "name": "ipython",
    "version": 3
   },
   "file_extension": ".py",
   "mimetype": "text/x-python",
   "name": "python",
   "nbconvert_exporter": "python",
   "pygments_lexer": "ipython3",
   "version": "3.9.0-final"
  },
  "orig_nbformat": 2,
  "kernelspec": {
   "name": "python3",
   "display_name": "Python 3",
   "language": "python"
  }
 },
 "nbformat": 4,
 "nbformat_minor": 2,
 "cells": [
  {
   "cell_type": "code",
   "execution_count": 1,
   "metadata": {},
   "outputs": [],
   "source": [
    "from os import chdir\n",
    "chdir('/home/jovyan')"
   ]
  },
  {
   "cell_type": "code",
   "execution_count": 2,
   "metadata": {},
   "outputs": [],
   "source": [
    "from lib.postgres import connect_to_postgres"
   ]
  },
  {
   "cell_type": "code",
   "execution_count": 3,
   "metadata": {},
   "outputs": [],
   "source": [
    "con, cur = connect_to_postgres()\n",
    "cur.execute(\"\"\"\n",
    "BEGIN;\n",
    "ALTER TABLE adult ADD COLUMN _id SERIAL PRIMARY KEY;\n",
    "ALTER TABLE adult ADD COLUMN target BOOLEAN;\n",
    "COMMIT;\n",
    "\"\"\")\n",
    "con.close()"
   ]
  },
  {
   "cell_type": "code",
   "execution_count": 4,
   "metadata": {},
   "outputs": [
    {
     "output_type": "stream",
     "name": "stdout",
     "text": [
      "[(' <=50K',), (' >50K',)]\n"
     ]
    }
   ],
   "source": [
    "con, cur = connect_to_postgres()\n",
    "cur.execute(\"\"\"SELECT DISTINCT(income_label) FROM adult;\"\"\")\n",
    "print(cur.fetchall())\n",
    "con.close()"
   ]
  },
  {
   "cell_type": "code",
   "execution_count": 5,
   "metadata": {},
   "outputs": [],
   "source": [
    "con, cur = connect_to_postgres()\n",
    "cur.execute(\"\"\"SELECT _id, income_label FROM adult WHERE target IS NULL;\"\"\")\n",
    "this_id, income_label = cur.fetchone()\n",
    "greater_than_50k = (income_label == ' >50K')\n",
    "cur.execute(\"\"\"\n",
    "BEGIN;\n",
    "UPDATE adult\n",
    "SET target = {}\n",
    "WHERE _id = {};\n",
    "COMMIT;\n",
    "\"\"\".format(greater_than_50k*1, this_id))\n",
    "con.close()"
   ]
  },
  {
   "cell_type": "code",
   "execution_count": 9,
   "metadata": {},
   "outputs": [
    {
     "output_type": "stream",
     "name": "stdout",
     "text": [
      "1 (1, ' <=50K', False)\n"
     ]
    }
   ],
   "source": [
    "con, cur = connect_to_postgres()\n",
    "cur.execute(\"\"\"\n",
    "SELECT _id, income_label, target\n",
    "FROM adult WHERE _id = {};\n",
    "\"\"\".format(this_id))\n",
    "print(this_id, cur.fetchone())\n",
    "con.close()"
   ]
  },
  {
   "cell_type": "code",
   "execution_count": 14,
   "metadata": {},
   "outputs": [],
   "source": [
    "def encode_target(_id):\n",
    "    \"\"\"Encode the target for a single row as a boolean value. Takes a row _id.\"\"\"\n",
    "    con, cur = connect_to_postgres()\n",
    "    cur.execute(\"\"\"SELECT _id, income_label FROM adult where _id = {}\"\"\".format(_id))\n",
    "    this_id, income_label = cur.fetchone()\n",
    "    assert this_id == _id\n",
    "    greater_than_50k = (income_label == ' >50K')\n",
    "    cur.execute(\"\"\"\n",
    "        BEGIN;\n",
    "        UPDATE adult\n",
    "        SET target = {}\n",
    "        WHERE _id = {};\n",
    "        COMMIT;\n",
    "    \"\"\".format(greater_than_50k, _id))\n",
    "    con.close()"
   ]
  },
  {
   "cell_type": "code",
   "execution_count": 15,
   "metadata": {},
   "outputs": [],
   "source": [
    "con, cur = connect_to_postgres()\n",
    "cur.execute(\"\"\"SELECT _id FROM adult WHERE target IS NULL;\"\"\")\n",
    "this_id, = cur.fetchone()\n",
    "encode_target(this_id)\n",
    "con.close()"
   ]
  },
  {
   "cell_type": "code",
   "execution_count": 16,
   "metadata": {},
   "outputs": [
    {
     "output_type": "stream",
     "name": "stdout",
     "text": [
      "2 (2, ' <=50K', False)\n"
     ]
    }
   ],
   "source": [
    "con, cur = connect_to_postgres()\n",
    "cur.execute(\"\"\"\n",
    "SELECT _id, income_label, target\n",
    "FROM adult WHERE _id = {};\n",
    "\"\"\".format(this_id))\n",
    "print(this_id, cur.fetchone())\n",
    "con.close()"
   ]
  },
  {
   "cell_type": "code",
   "execution_count": null,
   "metadata": {},
   "outputs": [],
   "source": []
  }
 ]
}